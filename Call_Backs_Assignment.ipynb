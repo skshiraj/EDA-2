{
 "cells": [
  {
   "cell_type": "markdown",
   "metadata": {
    "colab_type": "text",
    "id": "AQDRNrY2NCXf"
   },
   "source": [
    "<pre>\n",
    "1. Download the data from <a href='https://drive.google.com/file/d/15dCNcmKskcFVjs7R0ElQkR61Ex53uJpM/view?usp=sharing'>here</a>\n",
    "\n",
    "2. Code the model to classify data like below image\n",
    "\n",
    "<img src='https://i.imgur.com/33ptOFy.png'>\n",
    "\n",
    "3. Write your own callback function, that has to print the micro F1 score and AUC score after each epoch.\n",
    "\n",
    "4. Save your model at every epoch if your validation accuracy is improved from previous epoch. \n",
    "\n",
    "5. you have to decay learning based on below conditions \n",
    "        Cond1. If your validation accuracy at that epoch is less than previous epoch accuracy, you have to decrese the\n",
    "               learning rate by 10%. \n",
    "        Cond2. For every 3rd epoch, decay your learning rate by 5%.\n",
    "        \n",
    "6. If you are getting any NaN values(either weigths or loss) while training, you have to terminate your training. \n",
    "\n",
    "7. You have to stop the training if your validation accuracy is not increased in last 2 epochs.\n",
    "\n",
    "8. Use tensorboard for every model and analyse your gradients. (you need to upload the screenshots for each model for evaluation)\n",
    "\n",
    "9. use cross entropy as loss function\n",
    "\n",
    "10. Try the architecture params as given below. \n",
    "</pre>"
   ]
  },
  {
   "cell_type": "markdown",
   "metadata": {
    "colab_type": "text",
    "id": "w41Y3TFENCXk"
   },
   "source": [
    "<pre>\n",
    "<b>Model-1</b>\n",
    "<pre>\n",
    "1. Use tanh as an activation for every layer except output layer.\n",
    "2. use SGD with momentum as optimizer.\n",
    "3. use RandomUniform(0,1) as initilizer.\n",
    "3. Analyze your output and training process. \n",
    "</pre>\n",
    "</pre>\n",
    "<pre>\n",
    "<b>Model-2</b>\n",
    "<pre>\n",
    "1. Use relu as an activation for every layer except output layer.\n",
    "2. use SGD with momentum as optimizer.\n",
    "3. use RandomUniform(0,1) as initilizer.\n",
    "3. Analyze your output and training process. \n",
    "</pre>\n",
    "</pre>\n",
    "<pre>\n",
    "<b>Model-3</b>\n",
    "<pre>\n",
    "1. Use relu as an activation for every layer except output layer.\n",
    "2. use SGD with momentum as optimizer.\n",
    "3. use he_uniform() as initilizer.\n",
    "3. Analyze your output and training process. \n",
    "</pre>\n",
    "</pre>\n",
    "<pre>\n",
    "<b>Model-4</b>\n",
    "<pre>\n",
    "1. Try with any values to get better accuracy/f1 score.  \n",
    "</pre>\n",
    "</pre>"
   ]
  },
  {
   "cell_type": "code",
   "execution_count": 2,
   "metadata": {
    "colab": {},
    "colab_type": "code",
    "id": "bnnQVqwezgDT"
   },
   "outputs": [
    {
     "name": "stderr",
     "output_type": "stream",
     "text": [
      "C:\\Users\\user\\Anaconda3\\lib\\site-packages\\numpy\\_distributor_init.py:32: UserWarning: loaded more than 1 DLL from .libs:\n",
      "C:\\Users\\user\\Anaconda3\\lib\\site-packages\\numpy\\.libs\\libopenblas.PYQHXLVVQ7VESDPUVUADXEVJOBGHJPAY.gfortran-win_amd64.dll\n",
      "C:\\Users\\user\\Anaconda3\\lib\\site-packages\\numpy\\.libs\\libopenblas.TXA6YQSD3GCQQC22GEQ54J2UDCXDXHWN.gfortran-win_amd64.dll\n",
      "  stacklevel=1)\n",
      "C:\\Users\\user\\Anaconda3\\lib\\site-packages\\tensorflow\\python\\framework\\dtypes.py:526: FutureWarning: Passing (type, 1) or '1type' as a synonym of type is deprecated; in a future version of numpy, it will be understood as (type, (1,)) / '(1,)type'.\n",
      "  _np_qint8 = np.dtype([(\"qint8\", np.int8, 1)])\n",
      "C:\\Users\\user\\Anaconda3\\lib\\site-packages\\tensorflow\\python\\framework\\dtypes.py:527: FutureWarning: Passing (type, 1) or '1type' as a synonym of type is deprecated; in a future version of numpy, it will be understood as (type, (1,)) / '(1,)type'.\n",
      "  _np_quint8 = np.dtype([(\"quint8\", np.uint8, 1)])\n",
      "C:\\Users\\user\\Anaconda3\\lib\\site-packages\\tensorflow\\python\\framework\\dtypes.py:528: FutureWarning: Passing (type, 1) or '1type' as a synonym of type is deprecated; in a future version of numpy, it will be understood as (type, (1,)) / '(1,)type'.\n",
      "  _np_qint16 = np.dtype([(\"qint16\", np.int16, 1)])\n",
      "C:\\Users\\user\\Anaconda3\\lib\\site-packages\\tensorflow\\python\\framework\\dtypes.py:529: FutureWarning: Passing (type, 1) or '1type' as a synonym of type is deprecated; in a future version of numpy, it will be understood as (type, (1,)) / '(1,)type'.\n",
      "  _np_quint16 = np.dtype([(\"quint16\", np.uint16, 1)])\n",
      "C:\\Users\\user\\Anaconda3\\lib\\site-packages\\tensorflow\\python\\framework\\dtypes.py:530: FutureWarning: Passing (type, 1) or '1type' as a synonym of type is deprecated; in a future version of numpy, it will be understood as (type, (1,)) / '(1,)type'.\n",
      "  _np_qint32 = np.dtype([(\"qint32\", np.int32, 1)])\n",
      "C:\\Users\\user\\Anaconda3\\lib\\site-packages\\tensorflow\\python\\framework\\dtypes.py:535: FutureWarning: Passing (type, 1) or '1type' as a synonym of type is deprecated; in a future version of numpy, it will be understood as (type, (1,)) / '(1,)type'.\n",
      "  np_resource = np.dtype([(\"resource\", np.ubyte, 1)])\n"
     ]
    }
   ],
   "source": [
    "import tensorflow as tf\n",
    "tf.enable_eager_execution()\n",
    "import numpy as np\n",
    "import pandas as pd"
   ]
  },
  {
   "cell_type": "code",
   "execution_count": 17,
   "metadata": {
    "colab": {},
    "colab_type": "code",
    "id": "Ux-EFGyzzgDZ"
   },
   "outputs": [],
   "source": [
    "from sklearn.metrics import f1_score\n",
    "from sklearn.metrics import roc_auc_score"
   ]
  },
  {
   "cell_type": "code",
   "execution_count": 18,
   "metadata": {
    "colab": {},
    "colab_type": "code",
    "id": "y92TAvQNzgDj"
   },
   "outputs": [],
   "source": [
    "from tensorflow.keras.layers import Dense,Input,Activation\n",
    "from tensorflow.keras.models import Model\n",
    "import random as rn"
   ]
  },
  {
   "cell_type": "code",
   "execution_count": 19,
   "metadata": {
    "colab": {
     "base_uri": "https://localhost:8080/",
     "height": 85
    },
    "colab_type": "code",
    "id": "SgPgZ6ApzgDp",
    "outputId": "a3aad588-d223-4f95-bb1b-1af432b7016d"
   },
   "outputs": [
    {
     "name": "stdout",
     "output_type": "stream",
     "text": [
      "(15000, 2)\n",
      "(5000, 2)\n",
      "(15000,)\n",
      "(5000,)\n"
     ]
    }
   ],
   "source": [
    "data = pd.read_csv(\"C:\\\\Users\\\\user\\\\Desktop\\\\Callbacks\\\\data.csv\")\n",
    "from sklearn.model_selection import train_test_split\n",
    "X=data.loc[:,'f1':'f2']\n",
    "Y=data.loc[:,'label']\n",
    "X_train, X_test, Y_train, Y_test = train_test_split(X, Y, test_size=0.25, stratify=Y)\n",
    "print(X_train.shape)\n",
    "print(X_test.shape)\n",
    "print(Y_train.shape)\n",
    "print(Y_test.shape)"
   ]
  },
  {
   "cell_type": "code",
   "execution_count": 20,
   "metadata": {
    "colab": {},
    "colab_type": "code",
    "id": "2IK-PSRNzgDy"
   },
   "outputs": [],
   "source": [
    "class LossHistory(tf.keras.callbacks.Callback):\n",
    "    \n",
    "    def on_train_begin(self, logs={}):\n",
    "        ## on begin of training, we are creating a instance varible called history\n",
    "        ## it is a dict with keys [loss, acc, val_loss, val_acc]\n",
    "        self.history={'loss': [],'acc': [],'val_loss': [],'val_acc': []}\n",
    "        print('train_begin')\n",
    "        \n",
    "    def on_epoch_end(self, epoch, logs={}):\n",
    "        print('\\n','epoch_end')\n",
    "        # predict probabilities for test set\n",
    "        yhat_probs = model.predict(X_test, verbose=0)\n",
    "        # predict crisp classes for test set\n",
    "        #yhat_classes = model.predict_proba(X_test, verbose=0)\n",
    "        # reduce to 1d array\n",
    "        yhat_probs = yhat_probs[:, 0]\n",
    "        #yhat_classes = yhat_classes[:, 0]\n",
    "        #f1 = f1_score(Y_test, yhat_classes)\n",
    "        #print('F1 score: %f' % f1)\n",
    "        #auc = roc_auc_score(Y_test, yhat_probs)\n",
    "        #print('ROC AUC: %f' % auc)\n",
    "        ## on end of each epoch, we will get logs and update the self.history dict\n",
    "        \n",
    "        self.history['loss'].append(logs.get('loss'))\n",
    "        self.history['acc'].append(logs.get('acc'))\n",
    "        #print(self.history)\n",
    "        #self.history['auc'].append(logs.get('auc'))\n",
    "        if logs.get('val_loss', -1) != -1:\n",
    "            self.history['val_loss'].append(logs.get('val_loss'))\n",
    "        if logs.get('val_acc', -1) != -1:\n",
    "            self.history['val_acc'].append(logs.get('val_acc'))\n",
    "        #print('\\n',self.history)"
   ]
  },
  {
   "cell_type": "code",
   "execution_count": 21,
   "metadata": {},
   "outputs": [],
   "source": [
    "\n",
    "from tensorflow.keras.callbacks import EarlyStopping"
   ]
  },
  {
   "cell_type": "code",
   "execution_count": 22,
   "metadata": {
    "colab": {},
    "colab_type": "code",
    "id": "rcZaGsOy5YUO"
   },
   "outputs": [],
   "source": [
    "class TerminateNaN(tf.keras.callbacks.Callback):\n",
    "        \n",
    "    def on_epoch_end(self, epoch, logs={}):\n",
    "        loss = logs.get('loss')\n",
    "        if loss is not None:\n",
    "            if np.isnan(loss) or np.isinf(loss):\n",
    "                print(\"Invalid loss and terminated at epoch {}\".format(epoch))\n",
    "                self.model.stop_training = True"
   ]
  },
  {
   "cell_type": "code",
   "execution_count": 23,
   "metadata": {
    "colab": {},
    "colab_type": "code",
    "id": "hxxRHnc66Iza"
   },
   "outputs": [],
   "source": [
    "from tensorflow.keras.callbacks import LearningRateScheduler\n",
    "def changeLearningRate(epoch,lr):\n",
    "    if epoch==0:\n",
    "        changed=0.01\n",
    "        print('Initializing Epoch with value:',changed)\n",
    "    if epoch>1: \n",
    "        val_acc_prev=history_own.history.get('val_acc')[epoch-2]\n",
    "        val_acc_curr=history_own.history.get('val_acc')[epoch-1]\n",
    "        if (val_acc_curr<val_acc_prev):\n",
    "            changed=lr*0.9\n",
    "            print('Val_acc is not increased,Decreasing epoch by 10%:',changed)\n",
    "\n",
    "    if epoch%3==0 and epoch>1:\n",
    "        changed = lr*0.95\n",
    "        print(epoch,'th Epoch,Decreasing epoch by 5%:',changed)\n",
    "    else:\n",
    "        changed = lr  \n",
    "    return changed"
   ]
  },
  {
   "cell_type": "markdown",
   "metadata": {},
   "source": [
    "# Model-1"
   ]
  },
  {
   "cell_type": "code",
   "execution_count": 24,
   "metadata": {
    "colab": {},
    "colab_type": "code",
    "id": "GXdYmfRFzgEX"
   },
   "outputs": [],
   "source": [
    "#Input layer\n",
    "input_layer = Input(shape=(2,))\n",
    "#Dense hidden layer\n",
    "layer1 = Dense(10,activation='tanh',kernel_initializer=tf.keras.initializers.RandomUniform(0,1,seed=20))(input_layer)\n",
    "layer2 = Dense(10,activation='tanh',kernel_initializer=tf.keras.initializers.RandomUniform(0,1,seed=30))(layer1)\n",
    "layer3 = Dense(10,activation='tanh',kernel_initializer=tf.keras.initializers.RandomUniform(0,1,seed=40))(layer2)\n",
    "layer4 = Dense(10,activation='tanh',kernel_initializer=tf.keras.initializers.RandomUniform(0,1,seed=50))(layer3)\n",
    "layer5 = Dense(10,activation='tanh',kernel_initializer=tf.keras.initializers.RandomUniform(0,1,seed=60))(layer4)\n",
    "#output layer\n",
    "output = Dense(1,activation='sigmoid',kernel_initializer=tf.keras.initializers.glorot_normal(seed=70))(layer5)\n",
    "#Creating a model\n",
    "model = Model(inputs=input_layer,outputs=output)\n",
    "history_own = LossHistory()\n",
    "optimizer = tf.keras.optimizers.SGD(0.01)\n",
    "model.compile(optimizer=optimizer, loss='binary_crossentropy',metrics=['accuracy'])"
   ]
  },
  {
   "cell_type": "code",
   "execution_count": 25,
   "metadata": {
    "colab": {
     "base_uri": "https://localhost:8080/",
     "height": 309
    },
    "colab_type": "code",
    "id": "s4-wrnzK06XL",
    "outputId": "01c1a904-06ac-4dd0-e4b2-1d52a4b52597"
   },
   "outputs": [
    {
     "name": "stdout",
     "output_type": "stream",
     "text": [
      "Train on 15000 samples, validate on 5000 samples\n",
      "train_begin\n",
      "Initializing Epoch with value: 0.01\n",
      "\n",
      "Epoch 00001: LearningRateScheduler reducing learning rate to 0.009999999776482582.\n",
      "Epoch 1/20\n",
      "10000/15000 [===================>..........] - ETA: 0s - loss: 0.7558 - acc: 0.4972\n",
      " epoch_end\n",
      "15000/15000 [==============================] - 2s 153us/sample - loss: 0.7492 - acc: 0.4991 - val_loss: 0.7244 - val_acc: 0.5010\n",
      "\n",
      "Epoch 00002: LearningRateScheduler reducing learning rate to 0.009999999776482582.\n",
      "Epoch 2/20\n",
      "10000/15000 [===================>..........] - ETA: 0s - loss: 0.7275 - acc: 0.4946\n",
      " epoch_end\n",
      "15000/15000 [==============================] - 0s 10us/sample - loss: 0.7218 - acc: 0.4991 - val_loss: 0.7048 - val_acc: 0.5018\n",
      "\n",
      "Epoch 00003: LearningRateScheduler reducing learning rate to 0.009999999776482582.\n",
      "Epoch 3/20\n",
      "10000/15000 [===================>..........] - ETA: 0s - loss: 0.7059 - acc: 0.4974\n",
      " epoch_end\n",
      "15000/15000 [==============================] - 0s 9us/sample - loss: 0.7032 - acc: 0.5001 - val_loss: 0.6951 - val_acc: 0.5018\n",
      "3 th Epoch,Decreasing epoch by 5%: 0.009499999787658453\n",
      "\n",
      "Epoch 00004: LearningRateScheduler reducing learning rate to 0.009499999787658453.\n",
      "Epoch 4/20\n",
      "10000/15000 [===================>..........] - ETA: 0s - loss: 0.6952 - acc: 0.5011\n",
      " epoch_end\n",
      "15000/15000 [==============================] - 0s 9us/sample - loss: 0.6946 - acc: 0.5013 - val_loss: 0.6931 - val_acc: 0.4988\n",
      "Epoch 00004: early stopping\n"
     ]
    },
    {
     "data": {
      "text/plain": [
       "<tensorflow.python.keras.callbacks.History at 0x19aa49d5cc0>"
      ]
     },
     "execution_count": 25,
     "metadata": {},
     "output_type": "execute_result"
    }
   ],
   "source": [
    "from tensorflow.keras.callbacks import ModelCheckpoint\n",
    "\n",
    "#Callbacks\n",
    "#file path, it saves the model in the 'model_save' folder and we are naming model with epoch number \n",
    "#and val acc to differtiate with other models\n",
    "#you have to create model_save folder before running the code.\n",
    "filepath=\"drive/My Drive/callbacks/weights-{epoch:02d}-{val_acc:.4f}.hdf5\"\n",
    "checkpoint = ModelCheckpoint(filepath=filepath, monitor='val_loss',  verbose=1, save_best_only=True, mode='auto')\n",
    "earlystop = EarlyStopping(monitor='val_loss', min_delta=0.35, patience=3, verbose=1)\n",
    "optimizer = tf.keras.optimizers.Adam(0.01)\n",
    "lrschedule = LearningRateScheduler(changeLearningRate, verbose=1)\n",
    "terminate=TerminateNaN()\n",
    "model.compile(optimizer=optimizer,loss='binary_crossentropy',metrics=['accuracy'])\n",
    "model.fit(X_train,Y_train,epochs=20,validation_data=(X_test,Y_test),batch_size=10000,callbacks=[history_own,earlystop,terminate,lrschedule])"
   ]
  },
  {
   "cell_type": "markdown",
   "metadata": {},
   "source": [
    "# Model-2"
   ]
  },
  {
   "cell_type": "code",
   "execution_count": 26,
   "metadata": {
    "colab": {},
    "colab_type": "code",
    "id": "7LvVrC3C_xIB"
   },
   "outputs": [],
   "source": [
    "\n",
    "#Input layer\n",
    "input_layer = Input(shape=(2,))\n",
    "#Dense hidden layer\n",
    "layer1 = Dense(10,activation='relu',kernel_initializer=tf.keras.initializers.RandomUniform(0,1,seed=20))(input_layer)\n",
    "layer2 = Dense(10,activation='relu',kernel_initializer=tf.keras.initializers.RandomUniform(0,1,seed=30))(layer1)\n",
    "layer3 = Dense(10,activation='relu',kernel_initializer=tf.keras.initializers.RandomUniform(0,1,seed=40))(layer2)\n",
    "layer4 = Dense(10,activation='relu',kernel_initializer=tf.keras.initializers.RandomUniform(0,1,seed=50))(layer3)\n",
    "layer5 = Dense(10,activation='relu',kernel_initializer=tf.keras.initializers.RandomUniform(0,1,seed=60))(layer4)\n",
    "#output layer\n",
    "output = Dense(1,activation='sigmoid',kernel_initializer=tf.keras.initializers.glorot_normal(seed=70))(layer5)\n",
    "#Creating a model\n",
    "model = Model(inputs=input_layer,outputs=output)\n",
    "history_own = LossHistory()\n",
    "optimizer = tf.keras.optimizers.SGD(0.01)\n",
    "model.compile(optimizer=optimizer, loss='binary_crossentropy',metrics=['accuracy'])"
   ]
  },
  {
   "cell_type": "code",
   "execution_count": 27,
   "metadata": {},
   "outputs": [
    {
     "name": "stdout",
     "output_type": "stream",
     "text": [
      "Train on 15000 samples, validate on 5000 samples\n",
      "train_begin\n",
      "Initializing Epoch with value: 0.01\n",
      "\n",
      "Epoch 00001: LearningRateScheduler reducing learning rate to 0.009999999776482582.\n",
      "Epoch 1/20\n",
      "10000/15000 [===================>..........] - ETA: 0s - loss: 4.0433 - acc: 0.4987\n",
      " epoch_end\n",
      "15000/15000 [==============================] - 3s 171us/sample - loss: 4.0856 - acc: 0.4983 - val_loss: 3.9458 - val_acc: 0.5000\n",
      "\n",
      "Epoch 00002: LearningRateScheduler reducing learning rate to 0.009999999776482582.\n",
      "Epoch 2/20\n",
      "10000/15000 [===================>..........] - ETA: 0s - loss: 3.9402 - acc: 0.4995\n",
      " epoch_end\n",
      "15000/15000 [==============================] - 0s 11us/sample - loss: 2.9285 - acc: 0.5000 - val_loss: 3.7702 - val_acc: 0.5020\n",
      "\n",
      "Epoch 00003: LearningRateScheduler reducing learning rate to 0.009999999776482582.\n",
      "Epoch 3/20\n",
      "10000/15000 [===================>..........] - ETA: 0s - loss: 3.7419 - acc: 0.5054\n",
      " epoch_end\n",
      "15000/15000 [==============================] - 0s 10us/sample - loss: 3.8218 - acc: 0.5043 - val_loss: 4.2149 - val_acc: 0.5000\n",
      "Val_acc is not increased,Decreasing epoch by 10%: 0.008999999798834325\n",
      "3 th Epoch,Decreasing epoch by 5%: 0.009499999787658453\n",
      "\n",
      "Epoch 00004: LearningRateScheduler reducing learning rate to 0.009499999787658453.\n",
      "Epoch 4/20\n",
      "10000/15000 [===================>..........] - ETA: 0s - loss: 4.0833 - acc: 0.5020\n",
      " epoch_end\n",
      "15000/15000 [==============================] - 0s 11us/sample - loss: 4.1139 - acc: 0.5000 - val_loss: 4.1208 - val_acc: 0.5072\n",
      "Epoch 00004: early stopping\n"
     ]
    },
    {
     "data": {
      "text/plain": [
       "<tensorflow.python.keras.callbacks.History at 0x19aaa259630>"
      ]
     },
     "execution_count": 27,
     "metadata": {},
     "output_type": "execute_result"
    }
   ],
   "source": [
    "from tensorflow.keras.callbacks import ModelCheckpoint\n",
    "\n",
    "#Callbacks\n",
    "#file path, it saves the model in the 'model_save' folder and we are naming model with epoch number \n",
    "#and val acc to differtiate with other models\n",
    "#you have to create model_save folder before running the code.\n",
    "filepath=\"drive/My Drive/callbacks/weights-{epoch:02d}-{val_acc:.4f}.hdf5\"\n",
    "checkpoint = ModelCheckpoint(filepath=filepath, monitor='val_loss',  verbose=1, save_best_only=True, mode='auto')\n",
    "earlystop = EarlyStopping(monitor='val_loss', min_delta=0.35, patience=3, verbose=1)\n",
    "optimizer = tf.keras.optimizers.Adam(0.01)\n",
    "lrschedule = LearningRateScheduler(changeLearningRate, verbose=1)\n",
    "terminate=TerminateNaN()\n",
    "model.compile(optimizer=optimizer,loss='binary_crossentropy',metrics=['accuracy'])\n",
    "model.fit(X_train,Y_train,epochs=20,validation_data=(X_test,Y_test),batch_size=10000,callbacks=[history_own,earlystop,terminate,lrschedule])"
   ]
  },
  {
   "cell_type": "markdown",
   "metadata": {},
   "source": [
    "# Model-3"
   ]
  },
  {
   "cell_type": "code",
   "execution_count": 30,
   "metadata": {},
   "outputs": [],
   "source": [
    "#Input layer\n",
    "input_layer = Input(shape=(2,))\n",
    "#Dense hidden layer\n",
    "layer1 = Dense(10,activation='relu',kernel_initializer=tf.keras.initializers.he_uniform(seed=20))(input_layer)\n",
    "layer2 = Dense(10,activation='relu',kernel_initializer=tf.keras.initializers.he_uniform(seed=30))(layer1)\n",
    "layer3 = Dense(10,activation='relu',kernel_initializer=tf.keras.initializers.he_uniform(seed=40))(layer2)\n",
    "layer4 = Dense(10,activation='relu',kernel_initializer=tf.keras.initializers.he_uniform(seed=50))(layer3)\n",
    "layer5 = Dense(10,activation='relu',kernel_initializer=tf.keras.initializers.he_uniform(seed=60))(layer4)\n",
    "#output layer\n",
    "output = Dense(1,activation='sigmoid',kernel_initializer=tf.keras.initializers.glorot_normal(seed=70))(layer5)\n",
    "#Creating a model\n",
    "model = Model(inputs=input_layer,outputs=output)\n",
    "history_own = LossHistory()\n",
    "optimizer = tf.keras.optimizers.SGD(0.01)\n",
    "model.compile(optimizer=optimizer, loss='binary_crossentropy',metrics=['accuracy'])"
   ]
  },
  {
   "cell_type": "code",
   "execution_count": 31,
   "metadata": {},
   "outputs": [
    {
     "name": "stdout",
     "output_type": "stream",
     "text": [
      "Train on 15000 samples, validate on 5000 samples\n",
      "train_begin\n",
      "Initializing Epoch with value: 0.01\n",
      "\n",
      "Epoch 00001: LearningRateScheduler reducing learning rate to 0.009999999776482582.\n",
      "Epoch 1/20\n",
      "10000/15000 [===================>..........] - ETA: 0s - loss: 0.8136 - acc: 0.5009\n",
      " epoch_end\n",
      "15000/15000 [==============================] - 3s 192us/sample - loss: 0.7937 - acc: 0.4996 - val_loss: 0.7156 - val_acc: 0.4912\n",
      "\n",
      "Epoch 00002: LearningRateScheduler reducing learning rate to 0.009999999776482582.\n",
      "Epoch 2/20\n",
      "10000/15000 [===================>..........] - ETA: 0s - loss: 0.7200 - acc: 0.4689\n",
      " epoch_end\n",
      "15000/15000 [==============================] - 0s 11us/sample - loss: 0.7136 - acc: 0.4661 - val_loss: 0.6943 - val_acc: 0.4636\n",
      "Val_acc is not increased,Decreasing epoch by 10%: 0.008999999798834325\n",
      "\n",
      "Epoch 00003: LearningRateScheduler reducing learning rate to 0.009999999776482582.\n",
      "Epoch 3/20\n",
      "10000/15000 [===================>..........] - ETA: 0s - loss: 0.6952 - acc: 0.4625\n",
      " epoch_end\n",
      "15000/15000 [==============================] - 0s 11us/sample - loss: 0.6945 - acc: 0.4779 - val_loss: 0.6948 - val_acc: 0.4892\n",
      "3 th Epoch,Decreasing epoch by 5%: 0.009499999787658453\n",
      "\n",
      "Epoch 00004: LearningRateScheduler reducing learning rate to 0.009499999787658453.\n",
      "Epoch 4/20\n",
      "10000/15000 [===================>..........] - ETA: 0s - loss: 0.6931 - acc: 0.5012\n",
      " epoch_end\n",
      "15000/15000 [==============================] - 0s 11us/sample - loss: 0.6931 - acc: 0.4983 - val_loss: 0.6943 - val_acc: 0.4896\n",
      "Epoch 00004: early stopping\n"
     ]
    },
    {
     "data": {
      "text/plain": [
       "<tensorflow.python.keras.callbacks.History at 0x19aafa7f320>"
      ]
     },
     "execution_count": 31,
     "metadata": {},
     "output_type": "execute_result"
    }
   ],
   "source": [
    "from tensorflow.keras.callbacks import ModelCheckpoint\n",
    "\n",
    "#Callbacks\n",
    "#file path, it saves the model inl the 'model_save' folder and we are naming model with epoch number \n",
    "#and val acc to differtiate with other models\n",
    "#you have to create model_save folder before running the code.\n",
    "filepath=\"drive/My Drive/callbacks/weights-{epoch:02d}-{val_acc:.4f}.hdf5\"\n",
    "checkpoint = ModelCheckpoint(filepath=filepath, monitor='val_loss',  verbose=1, save_best_only=True, mode='auto')\n",
    "earlystop = EarlyStopping(monitor='val_loss', min_delta=0.35, patience=3, verbose=1)\n",
    "optimizer = tf.keras.optimizers.Adam(0.01)\n",
    "lrschedule = LearningRateScheduler(changeLearningRate, verbose=1)\n",
    "terminate=TerminateNaN()\n",
    "model.compile(optimizer=optimizer,loss='binary_crossentropy',metrics=['accuracy'])\n",
    "model.fit(X_train,Y_train,epochs=20,validation_data=(X_test,Y_test),batch_size=10000,callbacks=[history_own,earlystop,terminate,lrschedule])"
   ]
  },
  {
   "cell_type": "code",
   "execution_count": 32,
   "metadata": {},
   "outputs": [
    {
     "name": "stderr",
     "output_type": "stream",
     "text": [
      "UsageError: Line magic function `%tensorboard` not found.\n"
     ]
    }
   ],
   "source": [
    "%tensorboard --logdir logs/fit"
   ]
  },
  {
   "cell_type": "code",
   "execution_count": null,
   "metadata": {},
   "outputs": [],
   "source": []
  }
 ],
 "metadata": {
  "colab": {
   "collapsed_sections": [],
   "name": "Call_Backs_Assignment.ipynb",
   "provenance": []
  },
  "kernelspec": {
   "display_name": "Python 3",
   "language": "python",
   "name": "python3"
  },
  "language_info": {
   "codemirror_mode": {
    "name": "ipython",
    "version": 3
   },
   "file_extension": ".py",
   "mimetype": "text/x-python",
   "name": "python",
   "nbconvert_exporter": "python",
   "pygments_lexer": "ipython3",
   "version": "3.7.1"
  }
 },
 "nbformat": 4,
 "nbformat_minor": 1
}
