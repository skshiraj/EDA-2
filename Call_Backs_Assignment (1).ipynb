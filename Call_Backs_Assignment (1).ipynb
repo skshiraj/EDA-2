{
 "cells": [
  {
   "cell_type": "markdown",
   "metadata": {
    "colab_type": "text",
    "id": "AQDRNrY2NCXf"
   },
   "source": [
    "<pre>\n",
    "1. Download the data from <a href='https://drive.google.com/file/d/15dCNcmKskcFVjs7R0ElQkR61Ex53uJpM/view?usp=sharing'>here</a>\n",
    "\n",
    "2. Code the model to classify data like below image\n",
    "\n",
    "<img src='https://i.imgur.com/33ptOFy.png'>\n",
    "\n",
    "3. Write your own callback function, that has to print the micro F1 score and AUC score after each epoch.\n",
    "\n",
    "4. Save your model at every epoch if your validation accuracy is improved from previous epoch. \n",
    "\n",
    "5. you have to decay learning based on below conditions \n",
    "        Cond1. If your validation accuracy at that epoch is less than previous epoch accuracy, you have to decrese the\n",
    "               learning rate by 10%. \n",
    "        Cond2. For every 3rd epoch, decay your learning rate by 5%.\n",
    "        \n",
    "6. If you are getting any NaN values(either weigths or loss) while training, you have to terminate your training. \n",
    "\n",
    "7. You have to stop the training if your validation accuracy is not increased in last 2 epochs.\n",
    "\n",
    "8. Use tensorboard for every model and analyse your gradients. (you need to upload the screenshots for each model for evaluation)\n",
    "\n",
    "9. use cross entropy as loss function\n",
    "\n",
    "10. Try the architecture params as given below. \n",
    "</pre>"
   ]
  },
  {
   "cell_type": "markdown",
   "metadata": {
    "colab_type": "text",
    "id": "w41Y3TFENCXk"
   },
   "source": [
    "<pre>\n",
    "<b>Model-1</b>\n",
    "<pre>\n",
    "1. Use tanh as an activation for every layer except output layer.\n",
    "2. use SGD with momentum as optimizer.\n",
    "3. use RandomUniform(0,1) as initilizer.\n",
    "3. Analyze your output and training process. \n",
    "</pre>\n",
    "</pre>\n",
    "<pre>\n",
    "<b>Model-2</b>\n",
    "<pre>\n",
    "1. Use relu as an activation for every layer except output layer.\n",
    "2. use SGD with momentum as optimizer.\n",
    "3. use RandomUniform(0,1) as initilizer.\n",
    "3. Analyze your output and training process. \n",
    "</pre>\n",
    "</pre>\n",
    "<pre>\n",
    "<b>Model-3</b>\n",
    "<pre>\n",
    "1. Use relu as an activation for every layer except output layer.\n",
    "2. use SGD with momentum as optimizer.\n",
    "3. use he_uniform() as initilizer.\n",
    "3. Analyze your output and training process. \n",
    "</pre>\n",
    "</pre>\n",
    "<pre>\n",
    "<b>Model-4</b>\n",
    "<pre>\n",
    "1. Try with any values to get better accuracy/f1 score.  \n",
    "</pre>\n",
    "</pre>"
   ]
  },
  {
   "cell_type": "code",
   "execution_count": 1,
   "metadata": {
    "colab": {
     "base_uri": "https://localhost:8080/",
     "height": 80
    },
    "colab_type": "code",
    "id": "bnnQVqwezgDT",
    "outputId": "f246014e-4242-4de4-c009-649d8afec95c"
   },
   "outputs": [],
   "source": [
    "import tensorflow as tf\n",
    "tf.enable_eager_execution()\n",
    "import numpy as np\n",
    "import pandas as pd"
   ]
  },
  {
   "cell_type": "code",
   "execution_count": 2,
   "metadata": {
    "colab": {},
    "colab_type": "code",
    "id": "Ux-EFGyzzgDZ"
   },
   "outputs": [],
   "source": [
    "from sklearn.metrics import f1_score\n",
    "from sklearn.metrics import roc_auc_score"
   ]
  },
  {
   "cell_type": "code",
   "execution_count": 3,
   "metadata": {
    "colab": {},
    "colab_type": "code",
    "id": "y92TAvQNzgDj"
   },
   "outputs": [],
   "source": [
    "from tensorflow.keras.layers import Dense,Input,Activation\n",
    "from tensorflow.keras.models import Model\n",
    "import random as rn"
   ]
  },
  {
   "cell_type": "code",
   "execution_count": 8,
   "metadata": {
    "colab": {
     "base_uri": "https://localhost:8080/",
     "height": 85
    },
    "colab_type": "code",
    "id": "SgPgZ6ApzgDp",
    "outputId": "a3aad588-d223-4f95-bb1b-1af432b7016d"
   },
   "outputs": [
    {
     "name": "stdout",
     "output_type": "stream",
     "text": [
      "(15000, 2)\n",
      "(5000, 2)\n",
      "(15000,)\n",
      "(5000,)\n"
     ]
    }
   ],
   "source": [
    "data = pd.read_csv(\"C:\\\\Users\\\\nsuguru\\\\Desktop\\\\data.csv\")\n",
    "from sklearn.model_selection import train_test_split\n",
    "X=data.loc[:,'f1':'f2']\n",
    "Y=data.loc[:,'label']\n",
    "X_train, X_test, Y_train, Y_test = train_test_split(X, Y, test_size=0.25, stratify=Y)\n",
    "print(X_train.shape)\n",
    "print(X_test.shape)\n",
    "print(Y_train.shape)\n",
    "print(Y_test.shape)"
   ]
  },
  {
   "cell_type": "code",
   "execution_count": 61,
   "metadata": {
    "colab": {},
    "colab_type": "code",
    "id": "2IK-PSRNzgDy"
   },
   "outputs": [],
   "source": [
    "class LossHistory(tf.keras.callbacks.Callback):\n",
    "    \n",
    "    def on_train_begin(self, logs={}):\n",
    "        ## on begin of training, we are creating a instance varible called history\n",
    "        ## it is a dict with keys [loss, acc, val_loss, val_acc]\n",
    "        self.history={'loss': [],'acc': [],'val_loss': [],'val_acc': []}\n",
    "        print('train_begin')\n",
    "        \n",
    "    def on_epoch_end(self, epoch, logs={}):\n",
    "        print('\\n','epoch_end')\n",
    "        # predict probabilities for test set\n",
    "        yhat_probs = model.predict(X_test, verbose=0)\n",
    "        # predict crisp classes for test set\n",
    "        #yhat_classes = model.predict_proba(X_test, verbose=0)\n",
    "        # reduce to 1d array\n",
    "        yhat_probs = yhat_probs[:, 0]\n",
    "        #yhat_classes = yhat_classes[:, 0]\n",
    "        #f1 = f1_score(Y_test, yhat_classes)\n",
    "        #print('F1 score: %f' % f1)\n",
    "        #auc = roc_auc_score(Y_test, yhat_probs)\n",
    "        #print('ROC AUC: %f' % auc)\n",
    "        ## on end of each epoch, we will get logs and update the self.history dict\n",
    "        \n",
    "        self.history['loss'].append(logs.get('loss'))\n",
    "        self.history['acc'].append(logs.get('acc'))\n",
    "        #print(self.history)\n",
    "        #self.history['auc'].append(logs.get('auc'))\n",
    "        if logs.get('val_loss', -1) != -1:\n",
    "            self.history['val_loss'].append(logs.get('val_loss'))\n",
    "        if logs.get('val_acc', -1) != -1:\n",
    "            self.history['val_acc'].append(logs.get('val_acc'))\n",
    "        #print('\\n',self.history)"
   ]
  },
  {
   "cell_type": "code",
   "execution_count": 154,
   "metadata": {
    "colab": {
     "base_uri": "https://localhost:8080/",
     "height": 1000
    },
    "colab_type": "code",
    "id": "pE00wtmIzgD4",
    "outputId": "fdcd7682-3f12-48c3-f7d9-f36ae117e218"
   },
   "outputs": [],
   "source": [
    "#Input layer\n",
    "input_layer = Input(shape=(2,))\n",
    "#Dense hidden layer\n",
    "layer1 = Dense(10,activation='tanh',kernel_initializer=tf.keras.initializers.RandomUniform(0,1,seed=20))(input_layer)\n",
    "layer2 = Dense(10,activation='tanh',kernel_initializer=tf.keras.initializers.RandomUniform(0,1,seed=30))(layer1)\n",
    "layer3 = Dense(10,activation='tanh',kernel_initializer=tf.keras.initializers.RandomUniform(0,1,seed=40))(layer2)\n",
    "layer4 = Dense(10,activation='tanh',kernel_initializer=tf.keras.initializers.RandomUniform(0,1,seed=50))(layer3)\n",
    "layer5 = Dense(10,activation='tanh',kernel_initializer=tf.keras.initializers.RandomUniform(0,1,seed=60))(layer4)\n",
    "#output layer\n",
    "output = Dense(1,activation='sigmoid',kernel_initializer=tf.keras.initializers.glorot_normal(seed=70))(layer5)\n",
    "#Creating a model\n",
    "model = Model(inputs=input_layer,outputs=output)\n",
    "history_own = LossHistory()\n",
    "optimizer = tf.keras.optimizers.SGD(0.01)\n",
    "model.compile(optimizer=optimizer, loss='binary_crossentropy',metrics=['accuracy','AUC'])"
   ]
  },
  {
   "cell_type": "code",
   "execution_count": 11,
   "metadata": {
    "colab": {},
    "colab_type": "code",
    "id": "MLU8ZQeR463C"
   },
   "outputs": [],
   "source": [
    "from tensorflow.keras.callbacks import EarlyStopping"
   ]
  },
  {
   "cell_type": "code",
   "execution_count": 150,
   "metadata": {},
   "outputs": [
    {
     "data": {
      "text/plain": [
       "{'loss': [4.806273953119914, 4.373181279500326],\n",
       " 'acc': [0.50346667, 0.5],\n",
       " 'val_loss': [4.477857208251953, 3.988653373718262],\n",
       " 'val_acc': [0.5, 0.5]}"
      ]
     },
     "execution_count": 150,
     "metadata": {},
     "output_type": "execute_result"
    }
   ],
   "source": [
    "history_own.history"
   ]
  },
  {
   "cell_type": "code",
   "execution_count": 56,
   "metadata": {
    "colab": {},
    "colab_type": "code",
    "id": "rcZaGsOy5YUO"
   },
   "outputs": [],
   "source": [
    "class TerminateNaN(tf.keras.callbacks.Callback):\n",
    "        \n",
    "    def on_epoch_end(self, epoch, logs={}):\n",
    "        loss = logs.get('loss')\n",
    "        if loss is not None:\n",
    "            if np.isnan(loss) or np.isinf(loss):\n",
    "                print(\"Invalid loss and terminated at epoch {}\".format(epoch))\n",
    "                self.model.stop_training = True"
   ]
  },
  {
   "cell_type": "code",
   "execution_count": 209,
   "metadata": {},
   "outputs": [],
   "source": [
    "from tensorflow.keras.callbacks import LearningRateScheduler\n",
    "def changeLearningRate(epoch,lr):\n",
    "    print('lr',lr)\n",
    "    if epoch==1:\n",
    "        return (lr*0.5)\n",
    "    else:\n",
    "        return (lr*0.3)"
   ]
  },
  {
   "cell_type": "code",
   "execution_count": 206,
   "metadata": {
    "colab": {},
    "colab_type": "code",
    "id": "hxxRHnc66Iza"
   },
   "outputs": [],
   "source": [
    "from tensorflow.keras.callbacks import LearningRateScheduler\n",
    "def changeLearningRate(epoch):\n",
    "\n",
    "    num1=0\n",
    "    num2=0\n",
    "    initial_learningrate=0.1\n",
    "    if epoch>1: \n",
    "        val_acc_prev=history_own.history.get('val_acc')[epoch-2]\n",
    "        val_acc_curr=history_own.history.get('val_acc')[epoch-1]\n",
    "        if (val_acc_curr<val_acc_prev):\n",
    "            num2=num2+1\n",
    "\n",
    "    if epoch%3==0:\n",
    "        num1=num1+1\n",
    "        changed = initial_learningrate*((1-0.1)**num1)*((1-0.05)**num2)\n",
    "    else:\n",
    "        changed = initial_learningrate*((1-0.1)**num1)*((1-0.05)**num2)  \n",
    "    return changed"
   ]
  },
  {
   "cell_type": "code",
   "execution_count": 207,
   "metadata": {},
   "outputs": [],
   "source": [
    "from termcolor import colored"
   ]
  },
  {
   "cell_type": "code",
   "execution_count": 210,
   "metadata": {
    "colab": {
     "base_uri": "https://localhost:8080/",
     "height": 309
    },
    "colab_type": "code",
    "id": "s4-wrnzK06XL",
    "outputId": "01c1a904-06ac-4dd0-e4b2-1d52a4b52597"
   },
   "outputs": [
    {
     "name": "stdout",
     "output_type": "stream",
     "text": [
      "Train on 15000 samples, validate on 5000 samples\n",
      "train_begin\n",
      "lr 0.009999999776482582\n",
      "\n",
      "Epoch 00001: LearningRateScheduler reducing learning rate to 0.0029999999329447745.\n",
      "Epoch 1/20\n",
      "10000/15000 [===================>..........] - ETA: 0s - loss: 0.7330 - acc: 0.4985\n",
      " epoch_end\n",
      "15000/15000 [==============================] - 0s 28us/sample - loss: 0.7307 - acc: 0.5000 - val_loss: 0.7237 - val_acc: 0.5000\n",
      "lr 0.003000000026077032\n",
      "\n",
      "Epoch 00002: LearningRateScheduler reducing learning rate to 0.001500000013038516.\n",
      "Epoch 2/20\n",
      "10000/15000 [===================>..........] - ETA: 0s - loss: 0.7230 - acc: 0.5013\n",
      " epoch_end\n",
      "15000/15000 [==============================] - 0s 4us/sample - loss: 0.7230 - acc: 0.5000 - val_loss: 0.7198 - val_acc: 0.5000\n",
      "lr 0.001500000013038516\n",
      "\n",
      "Epoch 00003: LearningRateScheduler reducing learning rate to 0.00045000000391155477.\n",
      "Epoch 3/20\n",
      "10000/15000 [===================>..........] - ETA: 0s - loss: 0.7194 - acc: 0.5008\n",
      " epoch_end\n",
      "15000/15000 [==============================] - 0s 5us/sample - loss: 0.7196 - acc: 0.5000 - val_loss: 0.7187 - val_acc: 0.5000\n",
      "lr 0.00044999999227002263\n",
      "\n",
      "Epoch 00004: LearningRateScheduler reducing learning rate to 0.00013499999768100678.\n",
      "Epoch 4/20\n",
      "10000/15000 [===================>..........] - ETA: 0s - loss: 0.7194 - acc: 0.4985\n",
      " epoch_end\n",
      "15000/15000 [==============================] - 0s 4us/sample - loss: 0.7186 - acc: 0.5000 - val_loss: 0.7184 - val_acc: 0.5000\n",
      "Epoch 00004: early stopping\n"
     ]
    },
    {
     "data": {
      "text/plain": [
       "<tensorflow.python.keras.callbacks.History at 0x1726e06f6d8>"
      ]
     },
     "execution_count": 210,
     "metadata": {},
     "output_type": "execute_result"
    }
   ],
   "source": [
    "from tensorflow.keras.callbacks import ModelCheckpoint\n",
    "\n",
    "#Callbacks\n",
    "#file path, it saves the model in the 'model_save' folder and we are naming model with epoch number \n",
    "#and val acc to differtiate with other models\n",
    "#you have to create model_save folder before running the code.\n",
    "filepath=\"drive/My Drive/callbacks/weights-{epoch:02d}-{val_acc:.4f}.hdf5\"\n",
    "checkpoint = ModelCheckpoint(filepath=filepath, monitor='val_loss',  verbose=1, save_best_only=True, mode='auto')\n",
    "earlystop = EarlyStopping(monitor='val_loss', min_delta=0.35, patience=3, verbose=1)\n",
    "optimizer = tf.keras.optimizers.Adam(0.01)\n",
    "lrschedule = LearningRateScheduler(changeLearningRate, verbose=1)\n",
    "terminate=TerminateNaN()\n",
    "model.compile(optimizer=optimizer,loss='binary_crossentropy',metrics=['accuracy'])\n",
    "model.fit(X_train,Y_train,epochs=20,validation_data=(X_test,Y_test),batch_size=10000,callbacks=[history_own,earlystop,terminate,lrschedule])"
   ]
  },
  {
   "cell_type": "code",
   "execution_count": null,
   "metadata": {
    "colab": {},
    "colab_type": "code",
    "id": "GXdYmfRFzgEX"
   },
   "outputs": [],
   "source": []
  },
  {
   "cell_type": "code",
   "execution_count": null,
   "metadata": {},
   "outputs": [],
   "source": []
  }
 ],
 "metadata": {
  "colab": {
   "collapsed_sections": [],
   "name": "Call_Backs_Assignment.ipynb",
   "provenance": []
  },
  "kernelspec": {
   "display_name": "Python 3",
   "language": "python",
   "name": "python3"
  },
  "language_info": {
   "codemirror_mode": {
    "name": "ipython",
    "version": 3
   },
   "file_extension": ".py",
   "mimetype": "text/x-python",
   "name": "python",
   "nbconvert_exporter": "python",
   "pygments_lexer": "ipython3",
   "version": "3.7.3"
  }
 },
 "nbformat": 4,
 "nbformat_minor": 1
}
